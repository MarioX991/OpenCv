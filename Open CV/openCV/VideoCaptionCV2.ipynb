{
 "cells": [
  {
   "cell_type": "markdown",
   "id": "edc05af4-ddc3-4b1c-8c16-0053ce12a4be",
   "metadata": {},
   "source": [
    "# Perspective transformation "
   ]
  },
  {
   "cell_type": "code",
   "execution_count": 1,
   "id": "b4f0cf80-6d79-4813-b58a-fdf152791b63",
   "metadata": {},
   "outputs": [],
   "source": [
    "import cv2 \n",
    "import numpy as np\n",
    "import matplotlib.pyplot as plt\n",
    "import matplotlib.image as pmimg\n",
    "%matplotlib inline"
   ]
  },
  {
   "cell_type": "code",
   "execution_count": 28,
   "id": "4d7fca6d-9829-4206-9501-00c95d336ba2",
   "metadata": {},
   "outputs": [],
   "source": [
    "# load webcam image. The zero inside the brackets emphizes the number of video cam that we want to use or will be used.\n",
    "# and the number imitate index of the camera.\n",
    "\n",
    "# Handy stuff, if we don't have liked camera to pc, we can dounload a mp3 and instead (0) we can pass the name of this file. \n",
    "cap = cv2.VideoCapture(0)\n",
    "\n",
    "\n",
    "# Now when we have setup thi VideoCapture we now want to put it in the use. \n",
    "\n",
    "# keeping video came actiavted untile we press some prerequsted key.\n",
    "while True:\n",
    "    # ret, frame = cap.read() : ret is bolean variable which is gonna be like indicator of correctness for the cam (does the cam work proparly or not)\n",
    "    _ , frame = cap.read()\n",
    "    # get the site of the frame \n",
    "    width = int(cap.get(3)) # 3 and 4 are the integer which pointing shape of frame \n",
    "    height = int(cap.get(4)) # Reasone for int in becasuse by default the get returns float point as we're going to slice our image int is proper for this \n",
    "    \n",
    "    \n",
    "    # now we display the frame\n",
    "    # Also we could do some transformation on the image like grayscaling, fliping or rotating it \n",
    "    #gray=cv2.cvtColor(frame, cv2.COLOR_BGR2GRAY)\n",
    "    #rotated=cv2.rotate(frame, cv2.ROTATE_90_CLOCKWISE)\n",
    "    flip = cv2.flip(frame,1)\n",
    "    # let's combine two images and presents them as one\n",
    "    combined_window = np.hstack([flip,frame])\n",
    "    \n",
    "    #but if we want to put let's say fore image into a single frame we need another approach\n",
    "    # create the zero array sime size as the frame \n",
    "    image  = np.zeros_like(frame, np.uint8)\n",
    "    \n",
    "    # we need to shrink the original image on the size that could be putten four-time into the frame\n",
    "    smaller_image = cv2.resize(frame, (0,0), fx=0.5, fy = 0.5) #we are shrinking the image's on the hight and width\n",
    "    \n",
    "    # now we put the shrinked image in the zero array at the top left part\n",
    "    image[:height//2, :width//2] = smaller_image # top left\n",
    "    image[height//2:, :width//2] = smaller_image #bottom left\n",
    "    image[:height//2, width//2:] = smaller_image # top right \n",
    "    image[:height//2, width//2:] = smaller_image # bottom right \n",
    "    \n",
    "    \n",
    "    cv2.imshow(\"Frame\", image)\n",
    "    # create the waitkey which is gona wait for one milisecond.\n",
    "    key = cv2.waitKey(1)\n",
    "    # and if we press the \"q\" key on the keyboard to end up window (ord ascii code)\n",
    "    if key == ord(\"q\"):\n",
    "        break\n",
    "# now on the end we wantq to relised camera process, and another programs are able to use it\n",
    "cap.release()\n",
    "cv2.destroyAllWindows()"
   ]
  },
  {
   "cell_type": "code",
   "execution_count": 5,
   "id": "50c8d600-564c-42d3-b16d-cf8106b35700",
   "metadata": {},
   "outputs": [
    {
     "ename": "NameError",
     "evalue": "name 'img' is not defined",
     "output_type": "error",
     "traceback": [
      "\u001b[1;31m---------------------------------------------------------------------------\u001b[0m",
      "\u001b[1;31mNameError\u001b[0m                                 Traceback (most recent call last)",
      "\u001b[1;32m~\\AppData\\Local\\Temp/ipykernel_10360/3349018410.py\u001b[0m in \u001b[0;36m<module>\u001b[1;34m\u001b[0m\n\u001b[0;32m     15\u001b[0m     \u001b[1;32mfor\u001b[0m \u001b[0mi\u001b[0m \u001b[1;32min\u001b[0m \u001b[0mcorners\u001b[0m\u001b[1;33m:\u001b[0m\u001b[1;33m\u001b[0m\u001b[1;33m\u001b[0m\u001b[0m\n\u001b[0;32m     16\u001b[0m         \u001b[0mx\u001b[0m\u001b[1;33m,\u001b[0m \u001b[0my\u001b[0m \u001b[1;33m=\u001b[0m \u001b[0mi\u001b[0m\u001b[1;33m.\u001b[0m\u001b[0mravel\u001b[0m\u001b[1;33m(\u001b[0m\u001b[1;33m)\u001b[0m\u001b[1;33m\u001b[0m\u001b[1;33m\u001b[0m\u001b[0m\n\u001b[1;32m---> 17\u001b[1;33m         \u001b[0mcv2\u001b[0m\u001b[1;33m.\u001b[0m\u001b[0mcircle\u001b[0m\u001b[1;33m(\u001b[0m\u001b[0mimg\u001b[0m\u001b[1;33m,\u001b[0m \u001b[1;33m(\u001b[0m\u001b[0mx\u001b[0m\u001b[1;33m,\u001b[0m \u001b[0my\u001b[0m\u001b[1;33m)\u001b[0m\u001b[1;33m,\u001b[0m \u001b[1;36m3\u001b[0m\u001b[1;33m,\u001b[0m \u001b[1;36m255\u001b[0m\u001b[1;33m,\u001b[0m \u001b[1;33m-\u001b[0m\u001b[1;36m1\u001b[0m\u001b[1;33m)\u001b[0m\u001b[1;33m\u001b[0m\u001b[1;33m\u001b[0m\u001b[0m\n\u001b[0m\u001b[0;32m     18\u001b[0m \u001b[1;33m\u001b[0m\u001b[0m\n\u001b[0;32m     19\u001b[0m     \u001b[0mkey\u001b[0m \u001b[1;33m=\u001b[0m \u001b[0mcv2\u001b[0m\u001b[1;33m.\u001b[0m\u001b[0mwaitKey\u001b[0m\u001b[1;33m(\u001b[0m\u001b[1;36m1\u001b[0m\u001b[1;33m)\u001b[0m\u001b[1;33m\u001b[0m\u001b[1;33m\u001b[0m\u001b[0m\n",
      "\u001b[1;31mNameError\u001b[0m: name 'img' is not defined"
     ]
    }
   ],
   "source": [
    "# Now we can use code from up and buid real time perspective transform (bird eye view)\n",
    "\n",
    "\n",
    "# video capture for your cam \n",
    "url = 'http://192.168.2.172:8080/video'\n",
    "cap = cv2.VideoCapture(url)\n",
    "while True:\n",
    "    rec, frame = cap.read()\n",
    "    # convert image to gray scale image\n",
    "    gray = cv2.cvtColor(frame, cv2.COLOR_BGR2GRAY)\n",
    "    # detect corners with the goodFeaturesToTrack function.\n",
    "    corners = cv2.goodFeaturesToTrack(gray, 27, 0.01, 10)\n",
    "    corners = np.int0(corners)\n",
    "    \n",
    "    for i in corners:\n",
    "        x, y = i.ravel()\n",
    "        cv2.circle(img, (x, y), 3, 255, -1)\n",
    "    \n",
    "    key = cv2.waitKey(1)\n",
    "    if key == ord(\"q\"):\n",
    "        break\n",
    "cap.release()\n",
    "cv2.destroyAllWindows()"
   ]
  },
  {
   "cell_type": "code",
   "execution_count": null,
   "id": "e79e6377-37f1-4d33-960e-3ce70b34b31b",
   "metadata": {},
   "outputs": [],
   "source": []
  },
  {
   "cell_type": "code",
   "execution_count": null,
   "id": "ac074013-c067-47f4-bed9-5c54ac13c35b",
   "metadata": {},
   "outputs": [],
   "source": [
    "# import the required library\n",
    "import numpy as np\n",
    "import cv2\n",
    "from matplotlib import pyplot as plt\n",
    "  \n",
    "  \n",
    "# read the image\n",
    "img = cv2.imread('corner1.png')\n",
    "  \n",
    "# convert image to gray scale image\n",
    "gray = cv2.cvtColor(img, cv2.COLOR_BGR2GRAY)\n",
    "  \n",
    "# detect corners with the goodFeaturesToTrack function.\n",
    "corners = cv2.goodFeaturesToTrack(gray, 27, 0.01, 10)\n",
    "corners = np.int0(corners)\n",
    "  \n",
    "# we iterate through each corner, \n",
    "# making a circle at each point that we think is a corner.\n",
    "for i in corners:\n",
    "    x, y = i.ravel()\n",
    "    cv2.circle(img, (x, y), 3, 255, -1)\n",
    "  \n",
    "plt.imshow(img), plt.show()"
   ]
  }
 ],
 "metadata": {
  "kernelspec": {
   "display_name": "Python 3 (ipykernel)",
   "language": "python",
   "name": "python3"
  },
  "language_info": {
   "codemirror_mode": {
    "name": "ipython",
    "version": 3
   },
   "file_extension": ".py",
   "mimetype": "text/x-python",
   "name": "python",
   "nbconvert_exporter": "python",
   "pygments_lexer": "ipython3",
   "version": "3.7.11"
  }
 },
 "nbformat": 4,
 "nbformat_minor": 5
}
